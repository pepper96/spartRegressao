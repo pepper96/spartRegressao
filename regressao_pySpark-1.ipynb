{
 "cells": [
  {
   "cell_type": "markdown",
   "metadata": {},
   "source": [
    "# Regressão com PySpark"
   ]
  },
  {
   "cell_type": "markdown",
   "metadata": {},
   "source": [
    "## Iniciando sessão Spark"
   ]
  },
  {
   "cell_type": "code",
   "execution_count": 2,
   "metadata": {},
   "outputs": [
    {
     "name": "stderr",
     "output_type": "stream",
     "text": [
      "your 131072x1 screen size is bogus. expect trouble\n",
      "25/02/20 20:48:02 WARN Utils: Your hostname, LAPTOP-3G01DURD resolves to a loopback address: 127.0.1.1; using 10.255.255.254 instead (on interface lo)\n",
      "25/02/20 20:48:02 WARN Utils: Set SPARK_LOCAL_IP if you need to bind to another address\n",
      "Setting default log level to \"WARN\".\n",
      "To adjust logging level use sc.setLogLevel(newLevel). For SparkR, use setLogLevel(newLevel).\n",
      "25/02/20 20:48:03 WARN NativeCodeLoader: Unable to load native-hadoop library for your platform... using builtin-java classes where applicable\n"
     ]
    },
    {
     "data": {
      "text/html": [
       "\n",
       "            <div>\n",
       "                <p><b>SparkSession - in-memory</b></p>\n",
       "                \n",
       "        <div>\n",
       "            <p><b>SparkContext</b></p>\n",
       "\n",
       "            <p><a href=\"http://10.255.255.254:4040\">Spark UI</a></p>\n",
       "\n",
       "            <dl>\n",
       "              <dt>Version</dt>\n",
       "                <dd><code>v3.5.4</code></dd>\n",
       "              <dt>Master</dt>\n",
       "                <dd><code>local[*]</code></dd>\n",
       "              <dt>AppName</dt>\n",
       "                <dd><code>Regressão com Spark</code></dd>\n",
       "            </dl>\n",
       "        </div>\n",
       "        \n",
       "            </div>\n",
       "        "
      ],
      "text/plain": [
       "<pyspark.sql.session.SparkSession at 0x7fbb822cc730>"
      ]
     },
     "execution_count": 2,
     "metadata": {},
     "output_type": "execute_result"
    }
   ],
   "source": [
    "from pyspark.sql import SparkSession\n",
    "\n",
    "spark = SparkSession.builder \\\n",
    "    .master('local[*]') \\\n",
    "    .appName(\"Regressão com Spark\") \\\n",
    "    .getOrCreate()\n",
    "\n",
    "spark"
   ]
  },
  {
   "cell_type": "markdown",
   "metadata": {},
   "source": [
    "## Lendo dados Json"
   ]
  },
  {
   "cell_type": "code",
   "execution_count": 3,
   "metadata": {},
   "outputs": [
    {
     "name": "stderr",
     "output_type": "stream",
     "text": [
      "                                                                                \r"
     ]
    }
   ],
   "source": [
    "dados  = spark.read.json(\"/home/lpimenta/spartRegressao/aula01/imoveis.json\",\n",
    "                         multiLine=False)"
   ]
  },
  {
   "cell_type": "code",
   "execution_count": 4,
   "metadata": {},
   "outputs": [
    {
     "data": {
      "text/plain": [
       "DataFrame[ident: struct<customerID:string,source:string>, listing: struct<address:struct<city:string,location:struct<lat:double,lon:double>,neighborhood:string,zone:string>,features:struct<bathrooms:bigint,bedrooms:bigint,floors:bigint,parkingSpaces:bigint,suites:bigint,totalAreas:string,unitFloor:bigint,unitsOnTheFloor:bigint,usableAreas:string>,prices:struct<price:string,tax:struct<condo:string,iptu:string>>,types:struct<unit:string,usage:string>>]"
      ]
     },
     "execution_count": 4,
     "metadata": {},
     "output_type": "execute_result"
    }
   ],
   "source": [
    "dados"
   ]
  },
  {
   "cell_type": "code",
   "execution_count": 5,
   "metadata": {},
   "outputs": [
    {
     "name": "stderr",
     "output_type": "stream",
     "text": [
      "[Stage 1:>                                                          (0 + 1) / 1]\r"
     ]
    },
    {
     "name": "stdout",
     "output_type": "stream",
     "text": [
      "+--------------------------+-----------------------------------------------------------------------------------------------------------------------------------------------------------------+\n",
      "|ident                     |listing                                                                                                                                                          |\n",
      "+--------------------------+-----------------------------------------------------------------------------------------------------------------------------------------------------------------+\n",
      "|{775564-BOJSMVON, Website}|{{Rio de Janeiro, {-22.909429, -43.413557}, Taquara, Zona Oeste}, {0, 0, 0, 1, 0, 62, 0, 0, 62}, {45000, {150, 0}}, {Outros, Residencial}}                       |\n",
      "|{660895-AUENKNYY, Website}|{{Rio de Janeiro, {-22.869698, -43.509141}, Santíssimo, Zona Oeste}, {1, 2, 0, 1, 0, 0, 0, 0, 44}, {45000, {120, 0}}, {Apartamento, Residencial}}                |\n",
      "|{751522-JESYFEQL, Website}|{{Rio de Janeiro, {-22.986927, -43.646786}, Pedra de Guaratiba, Zona Oeste}, {0, 0, 0, 0, 0, 132, 0, 0, 132}, {50000, {100, 0}}, {Outros, Residencial}}          |\n",
      "|{714052-GAAEWYKS, Website}|{{Rio de Janeiro, {-22.881977, -43.330818}, Cascadura, Zona Norte}, {1, 0, 0, 0, 0, 32, 3, 0, 32}, {45000, {468, 346}}, {Outros, Comercial}}                     |\n",
      "|{568886-ZIBFOMCC, Website}|{{Rio de Janeiro, {-23.027653, -43.480742}, Recreio dos Bandeirantes, Zona Oeste}, {2, 3, 3, 1, 1, 0, 2, 4, 60}, {50000, {400, 120}}, {Apartamento, Residencial}}|\n",
      "|{526755-OBLTYTEN, Website}|{{Rio de Janeiro, {-22.966059, -43.571183}, Guaratiba, Zona Oeste}, {0, 0, 0, 0, 0, 200, 0, 0, 200}, {50000, {0, NULL}}, {Outros, Residencial}}                  |\n",
      "|{593569-CJLMNFGW, Website}|{{Rio de Janeiro, {-22.939028, -43.3453}, Freguesia (Jacarepaguá), Zona Oeste}, {1, 0, 0, 0, 0, 25, 2, 0, 25}, {50000, {801, 211}}, {Outros, Comercial}}         |\n",
      "|{989181-RYJOLMCU, Website}|{{Rio de Janeiro, {-22.841509, -43.278855}, Penha, Zona Norte}, {1, 0, 0, 0, 0, 23, 0, 0, 23}, {50000, {230, NULL}}, {Outros, Comercial}}                        |\n",
      "|{145372-EZKAKSWM, Website}|{{Rio de Janeiro, {-22.835609, -43.392253}, Ricardo de Albuquerque, Zona Norte}, {0, 0, 0, 0, 0, 60, 0, 0, 60}, {45000, {NULL, NULL}}, {Outros, Comercial}}      |\n",
      "|{792086-NWNQTDYL, Website}|{{Rio de Janeiro, {-22.885306, -43.253044}, Jacarezinho, Zona Norte}, {1, 1, 0, 1, 0, 35, 0, 0, 33}, {45336, {0, 0}}, {Apartamento, Residencial}}                |\n",
      "|{339622-MNZGLKTZ, Website}|{{Rio de Janeiro, {-22.990425, -43.635505}, Guaratiba, Zona Oeste}, {0, 0, 0, 0, 0, 120, 0, 0, 120}, {45000, {0, 0}}, {Outros, Residencial}}                     |\n",
      "|{952338-SVULQMXR, Website}|{{Rio de Janeiro, {-22.877982, -43.651456}, Santa Cruz, Zona Oeste}, {0, 0, 0, 0, 0, 468, 0, 0, 468}, {45000, {0, 0}}, {Outros, Residencial}}                    |\n",
      "|{570439-LDICQOXZ, Website}|{{Rio de Janeiro, {-22.998183, -43.504337}, Vargem Grande, Zona Oeste}, {0, 0, 0, 0, 0, 180, 1, 0, 180}, {50000, {0, 0}}, {Outros, Residencial}}                 |\n",
      "|{684023-YTBNKLLO, Website}|{{Rio de Janeiro, {-22.843794, -43.512464}, Bangu, Zona Oeste}, {0, 0, 0, 0, 0, 128, 0, 0, 128}, {50000, {0, 0}}, {Outros, Residencial}}                         |\n",
      "|{629412-VKUMMAVR, Website}|{{Rio de Janeiro, {-22.91077, -43.37182}, Tanque, Zona Oeste}, {0, 0, 0, 0, 0, 82, 1, 0, 82}, {45000, {300, 0}}, {Outros, Residencial}}                          |\n",
      "|{041590-HMJIRKDX, Website}|{{Rio de Janeiro, {-22.910099, -43.17797}, Centro, Zona Central}, {0, 0, 0, 1, 0, 5, 0, 0, 5}, {45000, {0, 0}}, {Outros, Comercial}}                             |\n",
      "|{870098-XTRYJAGY, Website}|{{Rio de Janeiro, {-22.867219, -43.335067}, Madureira, Zona Norte}, {1, 0, 0, 0, 0, 350, 0, 0, 350}, {50000, {0, 1600}}, {Outros, Comercial}}                    |\n",
      "|{951104-MACIAPIS, Website}|{{Rio de Janeiro, {-22.897014, -43.201575}, Santo Cristo, Zona Central}, {2, 3, 20, 1, 1, 0, 20, 19, 70}, {45000, {350, 120}}, {Apartamento, Residencial}}       |\n",
      "|{375665-GHMFEZXX, Website}|{{Rio de Janeiro, {-22.902419, -43.20952}, Santo Cristo, Zona Central}, {2, 3, 20, 1, 1, 0, 20, 19, 70}, {50000, {350, 120}}, {Apartamento, Residencial}}        |\n",
      "|{441711-LRTWHRUA, Website}|{{Rio de Janeiro, {-22.989852, -43.623097}, Pedra de Guaratiba, Zona Oeste}, {1, 1, 0, 0, 0, 45, 2, 0, 37}, {50000, {0, 0}}, {Apartamento, Residencial}}         |\n",
      "+--------------------------+-----------------------------------------------------------------------------------------------------------------------------------------------------------------+\n",
      "only showing top 20 rows\n",
      "\n"
     ]
    },
    {
     "name": "stderr",
     "output_type": "stream",
     "text": [
      "                                                                                \r"
     ]
    }
   ],
   "source": [
    "dados.show(truncate=False)"
   ]
  },
  {
   "cell_type": "code",
   "execution_count": 6,
   "metadata": {},
   "outputs": [
    {
     "name": "stderr",
     "output_type": "stream",
     "text": [
      "                                                                                \r"
     ]
    },
    {
     "data": {
      "text/plain": [
       "73615"
      ]
     },
     "execution_count": 6,
     "metadata": {},
     "output_type": "execute_result"
    }
   ],
   "source": [
    "dados.count()"
   ]
  },
  {
   "cell_type": "markdown",
   "metadata": {},
   "source": [
    "## Seleção de Features"
   ]
  },
  {
   "cell_type": "code",
   "execution_count": 10,
   "metadata": {},
   "outputs": [
    {
     "name": "stdout",
     "output_type": "stream",
     "text": [
      "root\n",
      " |-- ident: struct (nullable = true)\n",
      " |    |-- customerID: string (nullable = true)\n",
      " |    |-- source: string (nullable = true)\n",
      " |-- listing: struct (nullable = true)\n",
      " |    |-- address: struct (nullable = true)\n",
      " |    |    |-- city: string (nullable = true)\n",
      " |    |    |-- location: struct (nullable = true)\n",
      " |    |    |    |-- lat: double (nullable = true)\n",
      " |    |    |    |-- lon: double (nullable = true)\n",
      " |    |    |-- neighborhood: string (nullable = true)\n",
      " |    |    |-- zone: string (nullable = true)\n",
      " |    |-- features: struct (nullable = true)\n",
      " |    |    |-- bathrooms: long (nullable = true)\n",
      " |    |    |-- bedrooms: long (nullable = true)\n",
      " |    |    |-- floors: long (nullable = true)\n",
      " |    |    |-- parkingSpaces: long (nullable = true)\n",
      " |    |    |-- suites: long (nullable = true)\n",
      " |    |    |-- totalAreas: string (nullable = true)\n",
      " |    |    |-- unitFloor: long (nullable = true)\n",
      " |    |    |-- unitsOnTheFloor: long (nullable = true)\n",
      " |    |    |-- usableAreas: string (nullable = true)\n",
      " |    |-- prices: struct (nullable = true)\n",
      " |    |    |-- price: string (nullable = true)\n",
      " |    |    |-- tax: struct (nullable = true)\n",
      " |    |    |    |-- condo: string (nullable = true)\n",
      " |    |    |    |-- iptu: string (nullable = true)\n",
      " |    |-- types: struct (nullable = true)\n",
      " |    |    |-- unit: string (nullable = true)\n",
      " |    |    |-- usage: string (nullable = true)\n",
      "\n"
     ]
    }
   ],
   "source": [
    "dados.printSchema()"
   ]
  },
  {
   "cell_type": "code",
   "execution_count": 11,
   "metadata": {},
   "outputs": [
    {
     "name": "stderr",
     "output_type": "stream",
     "text": [
      "[Stage 6:>                                                          (0 + 1) / 1]\r"
     ]
    },
    {
     "name": "stdout",
     "output_type": "stream",
     "text": [
      "+---------------+--------------------------------------------------------------------------------+-------------------------------+---------------------+--------------------------+\n",
      "|customerId     |address                                                                         |features                       |prices               |types                     |\n",
      "+---------------+--------------------------------------------------------------------------------+-------------------------------+---------------------+--------------------------+\n",
      "|775564-BOJSMVON|{Rio de Janeiro, {-22.909429, -43.413557}, Taquara, Zona Oeste}                 |{0, 0, 0, 1, 0, 62, 0, 0, 62}  |{45000, {150, 0}}    |{Outros, Residencial}     |\n",
      "|660895-AUENKNYY|{Rio de Janeiro, {-22.869698, -43.509141}, Santíssimo, Zona Oeste}              |{1, 2, 0, 1, 0, 0, 0, 0, 44}   |{45000, {120, 0}}    |{Apartamento, Residencial}|\n",
      "|751522-JESYFEQL|{Rio de Janeiro, {-22.986927, -43.646786}, Pedra de Guaratiba, Zona Oeste}      |{0, 0, 0, 0, 0, 132, 0, 0, 132}|{50000, {100, 0}}    |{Outros, Residencial}     |\n",
      "|714052-GAAEWYKS|{Rio de Janeiro, {-22.881977, -43.330818}, Cascadura, Zona Norte}               |{1, 0, 0, 0, 0, 32, 3, 0, 32}  |{45000, {468, 346}}  |{Outros, Comercial}       |\n",
      "|568886-ZIBFOMCC|{Rio de Janeiro, {-23.027653, -43.480742}, Recreio dos Bandeirantes, Zona Oeste}|{2, 3, 3, 1, 1, 0, 2, 4, 60}   |{50000, {400, 120}}  |{Apartamento, Residencial}|\n",
      "|526755-OBLTYTEN|{Rio de Janeiro, {-22.966059, -43.571183}, Guaratiba, Zona Oeste}               |{0, 0, 0, 0, 0, 200, 0, 0, 200}|{50000, {0, NULL}}   |{Outros, Residencial}     |\n",
      "|593569-CJLMNFGW|{Rio de Janeiro, {-22.939028, -43.3453}, Freguesia (Jacarepaguá), Zona Oeste}   |{1, 0, 0, 0, 0, 25, 2, 0, 25}  |{50000, {801, 211}}  |{Outros, Comercial}       |\n",
      "|989181-RYJOLMCU|{Rio de Janeiro, {-22.841509, -43.278855}, Penha, Zona Norte}                   |{1, 0, 0, 0, 0, 23, 0, 0, 23}  |{50000, {230, NULL}} |{Outros, Comercial}       |\n",
      "|145372-EZKAKSWM|{Rio de Janeiro, {-22.835609, -43.392253}, Ricardo de Albuquerque, Zona Norte}  |{0, 0, 0, 0, 0, 60, 0, 0, 60}  |{45000, {NULL, NULL}}|{Outros, Comercial}       |\n",
      "|792086-NWNQTDYL|{Rio de Janeiro, {-22.885306, -43.253044}, Jacarezinho, Zona Norte}             |{1, 1, 0, 1, 0, 35, 0, 0, 33}  |{45336, {0, 0}}      |{Apartamento, Residencial}|\n",
      "|339622-MNZGLKTZ|{Rio de Janeiro, {-22.990425, -43.635505}, Guaratiba, Zona Oeste}               |{0, 0, 0, 0, 0, 120, 0, 0, 120}|{45000, {0, 0}}      |{Outros, Residencial}     |\n",
      "|952338-SVULQMXR|{Rio de Janeiro, {-22.877982, -43.651456}, Santa Cruz, Zona Oeste}              |{0, 0, 0, 0, 0, 468, 0, 0, 468}|{45000, {0, 0}}      |{Outros, Residencial}     |\n",
      "|570439-LDICQOXZ|{Rio de Janeiro, {-22.998183, -43.504337}, Vargem Grande, Zona Oeste}           |{0, 0, 0, 0, 0, 180, 1, 0, 180}|{50000, {0, 0}}      |{Outros, Residencial}     |\n",
      "|684023-YTBNKLLO|{Rio de Janeiro, {-22.843794, -43.512464}, Bangu, Zona Oeste}                   |{0, 0, 0, 0, 0, 128, 0, 0, 128}|{50000, {0, 0}}      |{Outros, Residencial}     |\n",
      "|629412-VKUMMAVR|{Rio de Janeiro, {-22.91077, -43.37182}, Tanque, Zona Oeste}                    |{0, 0, 0, 0, 0, 82, 1, 0, 82}  |{45000, {300, 0}}    |{Outros, Residencial}     |\n",
      "|041590-HMJIRKDX|{Rio de Janeiro, {-22.910099, -43.17797}, Centro, Zona Central}                 |{0, 0, 0, 1, 0, 5, 0, 0, 5}    |{45000, {0, 0}}      |{Outros, Comercial}       |\n",
      "|870098-XTRYJAGY|{Rio de Janeiro, {-22.867219, -43.335067}, Madureira, Zona Norte}               |{1, 0, 0, 0, 0, 350, 0, 0, 350}|{50000, {0, 1600}}   |{Outros, Comercial}       |\n",
      "|951104-MACIAPIS|{Rio de Janeiro, {-22.897014, -43.201575}, Santo Cristo, Zona Central}          |{2, 3, 20, 1, 1, 0, 20, 19, 70}|{45000, {350, 120}}  |{Apartamento, Residencial}|\n",
      "|375665-GHMFEZXX|{Rio de Janeiro, {-22.902419, -43.20952}, Santo Cristo, Zona Central}           |{2, 3, 20, 1, 1, 0, 20, 19, 70}|{50000, {350, 120}}  |{Apartamento, Residencial}|\n",
      "|441711-LRTWHRUA|{Rio de Janeiro, {-22.989852, -43.623097}, Pedra de Guaratiba, Zona Oeste}      |{1, 1, 0, 0, 0, 45, 2, 0, 37}  |{50000, {0, 0}}      |{Apartamento, Residencial}|\n",
      "+---------------+--------------------------------------------------------------------------------+-------------------------------+---------------------+--------------------------+\n",
      "only showing top 20 rows\n",
      "\n"
     ]
    },
    {
     "name": "stderr",
     "output_type": "stream",
     "text": [
      "                                                                                \r"
     ]
    }
   ],
   "source": [
    "dados\\\n",
    "    .select('ident.customerId','listing.*')\\\n",
    "    .show(truncate=False)"
   ]
  },
  {
   "cell_type": "code",
   "execution_count": 13,
   "metadata": {},
   "outputs": [
    {
     "name": "stderr",
     "output_type": "stream",
     "text": [
      "[Stage 7:>                                                          (0 + 1) / 1]\r"
     ]
    },
    {
     "name": "stdout",
     "output_type": "stream",
     "text": [
      "+---------------+-----------+-----------+---------+--------+------+-------------+------+----------+---------+---------------+-----------+--------------+------------------------+------------------------+------------+-----+-----+----+\n",
      "|customerID     |unit       |usage      |bathrooms|bedrooms|floors|parkingSpaces|suites|totalAreas|unitFloor|unitsOnTheFloor|usableAreas|city          |location                |neighborhood            |zone        |price|condo|iptu|\n",
      "+---------------+-----------+-----------+---------+--------+------+-------------+------+----------+---------+---------------+-----------+--------------+------------------------+------------------------+------------+-----+-----+----+\n",
      "|775564-BOJSMVON|Outros     |Residencial|0        |0       |0     |1            |0     |62        |0        |0              |62         |Rio de Janeiro|{-22.909429, -43.413557}|Taquara                 |Zona Oeste  |45000|150  |0   |\n",
      "|660895-AUENKNYY|Apartamento|Residencial|1        |2       |0     |1            |0     |0         |0        |0              |44         |Rio de Janeiro|{-22.869698, -43.509141}|Santíssimo              |Zona Oeste  |45000|120  |0   |\n",
      "|751522-JESYFEQL|Outros     |Residencial|0        |0       |0     |0            |0     |132       |0        |0              |132        |Rio de Janeiro|{-22.986927, -43.646786}|Pedra de Guaratiba      |Zona Oeste  |50000|100  |0   |\n",
      "|714052-GAAEWYKS|Outros     |Comercial  |1        |0       |0     |0            |0     |32        |3        |0              |32         |Rio de Janeiro|{-22.881977, -43.330818}|Cascadura               |Zona Norte  |45000|468  |346 |\n",
      "|568886-ZIBFOMCC|Apartamento|Residencial|2        |3       |3     |1            |1     |0         |2        |4              |60         |Rio de Janeiro|{-23.027653, -43.480742}|Recreio dos Bandeirantes|Zona Oeste  |50000|400  |120 |\n",
      "|526755-OBLTYTEN|Outros     |Residencial|0        |0       |0     |0            |0     |200       |0        |0              |200        |Rio de Janeiro|{-22.966059, -43.571183}|Guaratiba               |Zona Oeste  |50000|0    |NULL|\n",
      "|593569-CJLMNFGW|Outros     |Comercial  |1        |0       |0     |0            |0     |25        |2        |0              |25         |Rio de Janeiro|{-22.939028, -43.3453}  |Freguesia (Jacarepaguá) |Zona Oeste  |50000|801  |211 |\n",
      "|989181-RYJOLMCU|Outros     |Comercial  |1        |0       |0     |0            |0     |23        |0        |0              |23         |Rio de Janeiro|{-22.841509, -43.278855}|Penha                   |Zona Norte  |50000|230  |NULL|\n",
      "|145372-EZKAKSWM|Outros     |Comercial  |0        |0       |0     |0            |0     |60        |0        |0              |60         |Rio de Janeiro|{-22.835609, -43.392253}|Ricardo de Albuquerque  |Zona Norte  |45000|NULL |NULL|\n",
      "|792086-NWNQTDYL|Apartamento|Residencial|1        |1       |0     |1            |0     |35        |0        |0              |33         |Rio de Janeiro|{-22.885306, -43.253044}|Jacarezinho             |Zona Norte  |45336|0    |0   |\n",
      "|339622-MNZGLKTZ|Outros     |Residencial|0        |0       |0     |0            |0     |120       |0        |0              |120        |Rio de Janeiro|{-22.990425, -43.635505}|Guaratiba               |Zona Oeste  |45000|0    |0   |\n",
      "|952338-SVULQMXR|Outros     |Residencial|0        |0       |0     |0            |0     |468       |0        |0              |468        |Rio de Janeiro|{-22.877982, -43.651456}|Santa Cruz              |Zona Oeste  |45000|0    |0   |\n",
      "|570439-LDICQOXZ|Outros     |Residencial|0        |0       |0     |0            |0     |180       |1        |0              |180        |Rio de Janeiro|{-22.998183, -43.504337}|Vargem Grande           |Zona Oeste  |50000|0    |0   |\n",
      "|684023-YTBNKLLO|Outros     |Residencial|0        |0       |0     |0            |0     |128       |0        |0              |128        |Rio de Janeiro|{-22.843794, -43.512464}|Bangu                   |Zona Oeste  |50000|0    |0   |\n",
      "|629412-VKUMMAVR|Outros     |Residencial|0        |0       |0     |0            |0     |82        |1        |0              |82         |Rio de Janeiro|{-22.91077, -43.37182}  |Tanque                  |Zona Oeste  |45000|300  |0   |\n",
      "|041590-HMJIRKDX|Outros     |Comercial  |0        |0       |0     |1            |0     |5         |0        |0              |5          |Rio de Janeiro|{-22.910099, -43.17797} |Centro                  |Zona Central|45000|0    |0   |\n",
      "|870098-XTRYJAGY|Outros     |Comercial  |1        |0       |0     |0            |0     |350       |0        |0              |350        |Rio de Janeiro|{-22.867219, -43.335067}|Madureira               |Zona Norte  |50000|0    |1600|\n",
      "|951104-MACIAPIS|Apartamento|Residencial|2        |3       |20    |1            |1     |0         |20       |19             |70         |Rio de Janeiro|{-22.897014, -43.201575}|Santo Cristo            |Zona Central|45000|350  |120 |\n",
      "|375665-GHMFEZXX|Apartamento|Residencial|2        |3       |20    |1            |1     |0         |20       |19             |70         |Rio de Janeiro|{-22.902419, -43.20952} |Santo Cristo            |Zona Central|50000|350  |120 |\n",
      "|441711-LRTWHRUA|Apartamento|Residencial|1        |1       |0     |0            |0     |45        |2        |0              |37         |Rio de Janeiro|{-22.989852, -43.623097}|Pedra de Guaratiba      |Zona Oeste  |50000|0    |0   |\n",
      "+---------------+-----------+-----------+---------+--------+------+-------------+------+----------+---------+---------------+-----------+--------------+------------------------+------------------------+------------+-----+-----+----+\n",
      "only showing top 20 rows\n",
      "\n"
     ]
    },
    {
     "name": "stderr",
     "output_type": "stream",
     "text": [
      "                                                                                \r"
     ]
    }
   ],
   "source": [
    "dados\\\n",
    "    .select('ident.customerID', 'listing.types.*', 'listing.features.*', 'listing.address.*', 'listing.prices.price', 'listing.prices.tax.*')\\\n",
    "    .show(truncate=False)"
   ]
  },
  {
   "cell_type": "code",
   "execution_count": 14,
   "metadata": {},
   "outputs": [
    {
     "name": "stderr",
     "output_type": "stream",
     "text": [
      "[Stage 8:>                                                          (0 + 1) / 1]\r"
     ]
    },
    {
     "name": "stdout",
     "output_type": "stream",
     "text": [
      "+---------------+-----------+-----------+---------+--------+------+-------------+------+---------+---------------+-----------+------------------------+------------+-----+-----+----+\n",
      "|customerID     |unit       |usage      |bathrooms|bedrooms|floors|parkingSpaces|suites|unitFloor|unitsOnTheFloor|usableAreas|neighborhood            |zone        |price|condo|iptu|\n",
      "+---------------+-----------+-----------+---------+--------+------+-------------+------+---------+---------------+-----------+------------------------+------------+-----+-----+----+\n",
      "|775564-BOJSMVON|Outros     |Residencial|0        |0       |0     |1            |0     |0        |0              |62         |Taquara                 |Zona Oeste  |45000|150  |0   |\n",
      "|660895-AUENKNYY|Apartamento|Residencial|1        |2       |0     |1            |0     |0        |0              |44         |Santíssimo              |Zona Oeste  |45000|120  |0   |\n",
      "|751522-JESYFEQL|Outros     |Residencial|0        |0       |0     |0            |0     |0        |0              |132        |Pedra de Guaratiba      |Zona Oeste  |50000|100  |0   |\n",
      "|714052-GAAEWYKS|Outros     |Comercial  |1        |0       |0     |0            |0     |3        |0              |32         |Cascadura               |Zona Norte  |45000|468  |346 |\n",
      "|568886-ZIBFOMCC|Apartamento|Residencial|2        |3       |3     |1            |1     |2        |4              |60         |Recreio dos Bandeirantes|Zona Oeste  |50000|400  |120 |\n",
      "|526755-OBLTYTEN|Outros     |Residencial|0        |0       |0     |0            |0     |0        |0              |200        |Guaratiba               |Zona Oeste  |50000|0    |NULL|\n",
      "|593569-CJLMNFGW|Outros     |Comercial  |1        |0       |0     |0            |0     |2        |0              |25         |Freguesia (Jacarepaguá) |Zona Oeste  |50000|801  |211 |\n",
      "|989181-RYJOLMCU|Outros     |Comercial  |1        |0       |0     |0            |0     |0        |0              |23         |Penha                   |Zona Norte  |50000|230  |NULL|\n",
      "|145372-EZKAKSWM|Outros     |Comercial  |0        |0       |0     |0            |0     |0        |0              |60         |Ricardo de Albuquerque  |Zona Norte  |45000|NULL |NULL|\n",
      "|792086-NWNQTDYL|Apartamento|Residencial|1        |1       |0     |1            |0     |0        |0              |33         |Jacarezinho             |Zona Norte  |45336|0    |0   |\n",
      "|339622-MNZGLKTZ|Outros     |Residencial|0        |0       |0     |0            |0     |0        |0              |120        |Guaratiba               |Zona Oeste  |45000|0    |0   |\n",
      "|952338-SVULQMXR|Outros     |Residencial|0        |0       |0     |0            |0     |0        |0              |468        |Santa Cruz              |Zona Oeste  |45000|0    |0   |\n",
      "|570439-LDICQOXZ|Outros     |Residencial|0        |0       |0     |0            |0     |1        |0              |180        |Vargem Grande           |Zona Oeste  |50000|0    |0   |\n",
      "|684023-YTBNKLLO|Outros     |Residencial|0        |0       |0     |0            |0     |0        |0              |128        |Bangu                   |Zona Oeste  |50000|0    |0   |\n",
      "|629412-VKUMMAVR|Outros     |Residencial|0        |0       |0     |0            |0     |1        |0              |82         |Tanque                  |Zona Oeste  |45000|300  |0   |\n",
      "|041590-HMJIRKDX|Outros     |Comercial  |0        |0       |0     |1            |0     |0        |0              |5          |Centro                  |Zona Central|45000|0    |0   |\n",
      "|870098-XTRYJAGY|Outros     |Comercial  |1        |0       |0     |0            |0     |0        |0              |350        |Madureira               |Zona Norte  |50000|0    |1600|\n",
      "|951104-MACIAPIS|Apartamento|Residencial|2        |3       |20    |1            |1     |20       |19             |70         |Santo Cristo            |Zona Central|45000|350  |120 |\n",
      "|375665-GHMFEZXX|Apartamento|Residencial|2        |3       |20    |1            |1     |20       |19             |70         |Santo Cristo            |Zona Central|50000|350  |120 |\n",
      "|441711-LRTWHRUA|Apartamento|Residencial|1        |1       |0     |0            |0     |2        |0              |37         |Pedra de Guaratiba      |Zona Oeste  |50000|0    |0   |\n",
      "+---------------+-----------+-----------+---------+--------+------+-------------+------+---------+---------------+-----------+------------------------+------------+-----+-----+----+\n",
      "only showing top 20 rows\n",
      "\n"
     ]
    },
    {
     "name": "stderr",
     "output_type": "stream",
     "text": [
      "                                                                                \r"
     ]
    }
   ],
   "source": [
    "dados\\\n",
    "    .select('ident.customerID', 'listing.types.*', 'listing.features.*', 'listing.address.*', 'listing.prices.price', 'listing.prices.tax.*')\\\n",
    "    .drop('city','location','totalAreas')\\\n",
    "    .show(truncate=False)"
   ]
  },
  {
   "cell_type": "code",
   "execution_count": 24,
   "metadata": {},
   "outputs": [],
   "source": [
    "dataset = dados\\\n",
    "        .select('ident.customerID', 'listing.types.*', 'listing.features.*', 'listing.address.*', 'listing.prices.price', 'listing.prices.tax.*')\\\n",
    "        .drop('city','location','totalAreas')\n"
   ]
  },
  {
   "cell_type": "code",
   "execution_count": 25,
   "metadata": {},
   "outputs": [
    {
     "name": "stderr",
     "output_type": "stream",
     "text": [
      "[Stage 11:>                                                         (0 + 1) / 1]\r"
     ]
    },
    {
     "name": "stdout",
     "output_type": "stream",
     "text": [
      "+---------------+-----------+-----------+---------+--------+------+-------------+------+---------+---------------+-----------+--------------------+------------+-----+-----+----+\n",
      "|     customerID|       unit|      usage|bathrooms|bedrooms|floors|parkingSpaces|suites|unitFloor|unitsOnTheFloor|usableAreas|        neighborhood|        zone|price|condo|iptu|\n",
      "+---------------+-----------+-----------+---------+--------+------+-------------+------+---------+---------------+-----------+--------------------+------------+-----+-----+----+\n",
      "|775564-BOJSMVON|     Outros|Residencial|        0|       0|     0|            1|     0|        0|              0|         62|             Taquara|  Zona Oeste|45000|  150|   0|\n",
      "|660895-AUENKNYY|Apartamento|Residencial|        1|       2|     0|            1|     0|        0|              0|         44|          Santíssimo|  Zona Oeste|45000|  120|   0|\n",
      "|751522-JESYFEQL|     Outros|Residencial|        0|       0|     0|            0|     0|        0|              0|        132|  Pedra de Guaratiba|  Zona Oeste|50000|  100|   0|\n",
      "|714052-GAAEWYKS|     Outros|  Comercial|        1|       0|     0|            0|     0|        3|              0|         32|           Cascadura|  Zona Norte|45000|  468| 346|\n",
      "|568886-ZIBFOMCC|Apartamento|Residencial|        2|       3|     3|            1|     1|        2|              4|         60|Recreio dos Bande...|  Zona Oeste|50000|  400| 120|\n",
      "|526755-OBLTYTEN|     Outros|Residencial|        0|       0|     0|            0|     0|        0|              0|        200|           Guaratiba|  Zona Oeste|50000|    0|NULL|\n",
      "|593569-CJLMNFGW|     Outros|  Comercial|        1|       0|     0|            0|     0|        2|              0|         25|Freguesia (Jacare...|  Zona Oeste|50000|  801| 211|\n",
      "|989181-RYJOLMCU|     Outros|  Comercial|        1|       0|     0|            0|     0|        0|              0|         23|               Penha|  Zona Norte|50000|  230|NULL|\n",
      "|145372-EZKAKSWM|     Outros|  Comercial|        0|       0|     0|            0|     0|        0|              0|         60|Ricardo de Albuqu...|  Zona Norte|45000| NULL|NULL|\n",
      "|792086-NWNQTDYL|Apartamento|Residencial|        1|       1|     0|            1|     0|        0|              0|         33|         Jacarezinho|  Zona Norte|45336|    0|   0|\n",
      "|339622-MNZGLKTZ|     Outros|Residencial|        0|       0|     0|            0|     0|        0|              0|        120|           Guaratiba|  Zona Oeste|45000|    0|   0|\n",
      "|952338-SVULQMXR|     Outros|Residencial|        0|       0|     0|            0|     0|        0|              0|        468|          Santa Cruz|  Zona Oeste|45000|    0|   0|\n",
      "|570439-LDICQOXZ|     Outros|Residencial|        0|       0|     0|            0|     0|        1|              0|        180|       Vargem Grande|  Zona Oeste|50000|    0|   0|\n",
      "|684023-YTBNKLLO|     Outros|Residencial|        0|       0|     0|            0|     0|        0|              0|        128|               Bangu|  Zona Oeste|50000|    0|   0|\n",
      "|629412-VKUMMAVR|     Outros|Residencial|        0|       0|     0|            0|     0|        1|              0|         82|              Tanque|  Zona Oeste|45000|  300|   0|\n",
      "|041590-HMJIRKDX|     Outros|  Comercial|        0|       0|     0|            1|     0|        0|              0|          5|              Centro|Zona Central|45000|    0|   0|\n",
      "|870098-XTRYJAGY|     Outros|  Comercial|        1|       0|     0|            0|     0|        0|              0|        350|           Madureira|  Zona Norte|50000|    0|1600|\n",
      "|951104-MACIAPIS|Apartamento|Residencial|        2|       3|    20|            1|     1|       20|             19|         70|        Santo Cristo|Zona Central|45000|  350| 120|\n",
      "|375665-GHMFEZXX|Apartamento|Residencial|        2|       3|    20|            1|     1|       20|             19|         70|        Santo Cristo|Zona Central|50000|  350| 120|\n",
      "|441711-LRTWHRUA|Apartamento|Residencial|        1|       1|     0|            0|     0|        2|              0|         37|  Pedra de Guaratiba|  Zona Oeste|50000|    0|   0|\n",
      "+---------------+-----------+-----------+---------+--------+------+-------------+------+---------+---------------+-----------+--------------------+------------+-----+-----+----+\n",
      "only showing top 20 rows\n",
      "\n"
     ]
    },
    {
     "name": "stderr",
     "output_type": "stream",
     "text": [
      "                                                                                \r"
     ]
    }
   ],
   "source": [
    "dataset.show()"
   ]
  },
  {
   "cell_type": "markdown",
   "metadata": {},
   "source": [
    "## Tratamento de Dados"
   ]
  },
  {
   "cell_type": "code",
   "execution_count": 26,
   "metadata": {},
   "outputs": [
    {
     "name": "stdout",
     "output_type": "stream",
     "text": [
      "root\n",
      " |-- customerID: string (nullable = true)\n",
      " |-- unit: string (nullable = true)\n",
      " |-- usage: string (nullable = true)\n",
      " |-- bathrooms: long (nullable = true)\n",
      " |-- bedrooms: long (nullable = true)\n",
      " |-- floors: long (nullable = true)\n",
      " |-- parkingSpaces: long (nullable = true)\n",
      " |-- suites: long (nullable = true)\n",
      " |-- unitFloor: long (nullable = true)\n",
      " |-- unitsOnTheFloor: long (nullable = true)\n",
      " |-- usableAreas: string (nullable = true)\n",
      " |-- neighborhood: string (nullable = true)\n",
      " |-- zone: string (nullable = true)\n",
      " |-- price: string (nullable = true)\n",
      " |-- condo: string (nullable = true)\n",
      " |-- iptu: string (nullable = true)\n",
      "\n"
     ]
    }
   ],
   "source": [
    "dataset.printSchema()"
   ]
  },
  {
   "cell_type": "code",
   "execution_count": 27,
   "metadata": {},
   "outputs": [],
   "source": [
    "from pyspark.sql.types import IntegerType, DoubleType"
   ]
  },
  {
   "cell_type": "code",
   "execution_count": 28,
   "metadata": {},
   "outputs": [],
   "source": [
    "dataset=dataset\\\n",
    "    .withColumn('usableAreas',dataset['usableAreas'].cast(IntegerType()))\\\n",
    "    .withColumn('price',dataset['price'].cast(DoubleType()))\\\n",
    "    .withColumn('condo',dataset['condo'].cast(DoubleType()))\\\n",
    "    .withColumn('iptu',dataset['iptu'].cast(DoubleType()))\n",
    "    "
   ]
  },
  {
   "cell_type": "code",
   "execution_count": 29,
   "metadata": {},
   "outputs": [
    {
     "name": "stderr",
     "output_type": "stream",
     "text": [
      "[Stage 12:>                                                         (0 + 1) / 1]\r"
     ]
    },
    {
     "name": "stdout",
     "output_type": "stream",
     "text": [
      "+---------------+-----------+-----------+---------+--------+------+-------------+------+---------+---------------+-----------+--------------------+------------+-------+-----+------+\n",
      "|     customerID|       unit|      usage|bathrooms|bedrooms|floors|parkingSpaces|suites|unitFloor|unitsOnTheFloor|usableAreas|        neighborhood|        zone|  price|condo|  iptu|\n",
      "+---------------+-----------+-----------+---------+--------+------+-------------+------+---------+---------------+-----------+--------------------+------------+-------+-----+------+\n",
      "|775564-BOJSMVON|     Outros|Residencial|        0|       0|     0|            1|     0|        0|              0|         62|             Taquara|  Zona Oeste|45000.0|150.0|   0.0|\n",
      "|660895-AUENKNYY|Apartamento|Residencial|        1|       2|     0|            1|     0|        0|              0|         44|          Santíssimo|  Zona Oeste|45000.0|120.0|   0.0|\n",
      "|751522-JESYFEQL|     Outros|Residencial|        0|       0|     0|            0|     0|        0|              0|        132|  Pedra de Guaratiba|  Zona Oeste|50000.0|100.0|   0.0|\n",
      "|714052-GAAEWYKS|     Outros|  Comercial|        1|       0|     0|            0|     0|        3|              0|         32|           Cascadura|  Zona Norte|45000.0|468.0| 346.0|\n",
      "|568886-ZIBFOMCC|Apartamento|Residencial|        2|       3|     3|            1|     1|        2|              4|         60|Recreio dos Bande...|  Zona Oeste|50000.0|400.0| 120.0|\n",
      "|526755-OBLTYTEN|     Outros|Residencial|        0|       0|     0|            0|     0|        0|              0|        200|           Guaratiba|  Zona Oeste|50000.0|  0.0|  NULL|\n",
      "|593569-CJLMNFGW|     Outros|  Comercial|        1|       0|     0|            0|     0|        2|              0|         25|Freguesia (Jacare...|  Zona Oeste|50000.0|801.0| 211.0|\n",
      "|989181-RYJOLMCU|     Outros|  Comercial|        1|       0|     0|            0|     0|        0|              0|         23|               Penha|  Zona Norte|50000.0|230.0|  NULL|\n",
      "|145372-EZKAKSWM|     Outros|  Comercial|        0|       0|     0|            0|     0|        0|              0|         60|Ricardo de Albuqu...|  Zona Norte|45000.0| NULL|  NULL|\n",
      "|792086-NWNQTDYL|Apartamento|Residencial|        1|       1|     0|            1|     0|        0|              0|         33|         Jacarezinho|  Zona Norte|45336.0|  0.0|   0.0|\n",
      "|339622-MNZGLKTZ|     Outros|Residencial|        0|       0|     0|            0|     0|        0|              0|        120|           Guaratiba|  Zona Oeste|45000.0|  0.0|   0.0|\n",
      "|952338-SVULQMXR|     Outros|Residencial|        0|       0|     0|            0|     0|        0|              0|        468|          Santa Cruz|  Zona Oeste|45000.0|  0.0|   0.0|\n",
      "|570439-LDICQOXZ|     Outros|Residencial|        0|       0|     0|            0|     0|        1|              0|        180|       Vargem Grande|  Zona Oeste|50000.0|  0.0|   0.0|\n",
      "|684023-YTBNKLLO|     Outros|Residencial|        0|       0|     0|            0|     0|        0|              0|        128|               Bangu|  Zona Oeste|50000.0|  0.0|   0.0|\n",
      "|629412-VKUMMAVR|     Outros|Residencial|        0|       0|     0|            0|     0|        1|              0|         82|              Tanque|  Zona Oeste|45000.0|300.0|   0.0|\n",
      "|041590-HMJIRKDX|     Outros|  Comercial|        0|       0|     0|            1|     0|        0|              0|          5|              Centro|Zona Central|45000.0|  0.0|   0.0|\n",
      "|870098-XTRYJAGY|     Outros|  Comercial|        1|       0|     0|            0|     0|        0|              0|        350|           Madureira|  Zona Norte|50000.0|  0.0|1600.0|\n",
      "|951104-MACIAPIS|Apartamento|Residencial|        2|       3|    20|            1|     1|       20|             19|         70|        Santo Cristo|Zona Central|45000.0|350.0| 120.0|\n",
      "|375665-GHMFEZXX|Apartamento|Residencial|        2|       3|    20|            1|     1|       20|             19|         70|        Santo Cristo|Zona Central|50000.0|350.0| 120.0|\n",
      "|441711-LRTWHRUA|Apartamento|Residencial|        1|       1|     0|            0|     0|        2|              0|         37|  Pedra de Guaratiba|  Zona Oeste|50000.0|  0.0|   0.0|\n",
      "+---------------+-----------+-----------+---------+--------+------+-------------+------+---------+---------------+-----------+--------------------+------------+-------+-----+------+\n",
      "only showing top 20 rows\n",
      "\n"
     ]
    },
    {
     "name": "stderr",
     "output_type": "stream",
     "text": [
      "                                                                                \r"
     ]
    }
   ],
   "source": [
    "dataset.show()"
   ]
  },
  {
   "cell_type": "markdown",
   "metadata": {},
   "source": [
    "Temos dados distribuidos de forma desproporcional. Assim, iremos considerar apenas do tipo \"Residencial\" para treinar o nosso modelo."
   ]
  },
  {
   "cell_type": "code",
   "execution_count": 30,
   "metadata": {},
   "outputs": [
    {
     "name": "stderr",
     "output_type": "stream",
     "text": [
      "[Stage 13:==================================================>       (7 + 1) / 8]\r"
     ]
    },
    {
     "name": "stdout",
     "output_type": "stream",
     "text": [
      "+-----------+-----+\n",
      "|      usage|count|\n",
      "+-----------+-----+\n",
      "|  Comercial| 4019|\n",
      "|Residencial|69596|\n",
      "+-----------+-----+\n",
      "\n"
     ]
    },
    {
     "name": "stderr",
     "output_type": "stream",
     "text": [
      "                                                                                \r"
     ]
    }
   ],
   "source": [
    "dataset\\\n",
    "    .select('usage')\\\n",
    "    .groupBy('usage')\\\n",
    "    .count()\\\n",
    "    .show()"
   ]
  },
  {
   "cell_type": "code",
   "execution_count": 31,
   "metadata": {},
   "outputs": [],
   "source": [
    "dataset = dataset.select('*').where('usage==\"Residencial\"')"
   ]
  },
  {
   "cell_type": "code",
   "execution_count": 32,
   "metadata": {},
   "outputs": [
    {
     "name": "stderr",
     "output_type": "stream",
     "text": [
      "[Stage 16:==================================================>       (7 + 1) / 8]\r"
     ]
    },
    {
     "name": "stdout",
     "output_type": "stream",
     "text": [
      "+-----------+-----+\n",
      "|      usage|count|\n",
      "+-----------+-----+\n",
      "|Residencial|69596|\n",
      "+-----------+-----+\n",
      "\n"
     ]
    },
    {
     "name": "stderr",
     "output_type": "stream",
     "text": [
      "                                                                                \r"
     ]
    }
   ],
   "source": [
    "dataset\\\n",
    "    .select('usage')\\\n",
    "    .groupBy('usage')\\\n",
    "    .count()\\\n",
    "    .show()"
   ]
  },
  {
   "cell_type": "code",
   "execution_count": 33,
   "metadata": {},
   "outputs": [
    {
     "name": "stderr",
     "output_type": "stream",
     "text": [
      "[Stage 19:==================================================>       (7 + 1) / 8]\r"
     ]
    },
    {
     "name": "stdout",
     "output_type": "stream",
     "text": [
      "+-----------+-----+\n",
      "|       unit|count|\n",
      "+-----------+-----+\n",
      "|     Outros| 1190|\n",
      "|Apartamento|59106|\n",
      "|       Casa| 9300|\n",
      "+-----------+-----+\n",
      "\n"
     ]
    },
    {
     "name": "stderr",
     "output_type": "stream",
     "text": [
      "                                                                                \r"
     ]
    }
   ],
   "source": [
    "dataset\\\n",
    "    .select('unit')\\\n",
    "    .groupBy('unit')\\\n",
    "    .count()\\\n",
    "    .show()"
   ]
  },
  {
   "cell_type": "code",
   "execution_count": 34,
   "metadata": {},
   "outputs": [
    {
     "name": "stderr",
     "output_type": "stream",
     "text": [
      "[Stage 22:==================================================>       (7 + 1) / 8]\r"
     ]
    },
    {
     "name": "stdout",
     "output_type": "stream",
     "text": [
      "+------------+-----+\n",
      "|        zone|count|\n",
      "+------------+-----+\n",
      "|  Zona Norte|14379|\n",
      "|  Zona Oeste|35523|\n",
      "|Zona Central| 1002|\n",
      "|    Zona Sul|18535|\n",
      "|            |  157|\n",
      "+------------+-----+\n",
      "\n"
     ]
    },
    {
     "name": "stderr",
     "output_type": "stream",
     "text": [
      "                                                                                \r"
     ]
    }
   ],
   "source": [
    "dataset\\\n",
    "    .select('zone')\\\n",
    "    .groupBy('zone')\\\n",
    "    .count()\\\n",
    "    .show()"
   ]
  },
  {
   "cell_type": "markdown",
   "metadata": {},
   "source": [
    "## Tratamento para dados faltantes"
   ]
  },
  {
   "cell_type": "code",
   "execution_count": 35,
   "metadata": {},
   "outputs": [],
   "source": [
    "from pyspark.sql import functions as f "
   ]
  },
  {
   "cell_type": "code",
   "execution_count": 36,
   "metadata": {},
   "outputs": [
    {
     "name": "stderr",
     "output_type": "stream",
     "text": [
      "[Stage 25:>                                                         (0 + 1) / 1]\r"
     ]
    },
    {
     "name": "stdout",
     "output_type": "stream",
     "text": [
      "+---------------+-----------+-----------+---------+--------+------+-------------+------+---------+---------------+-----------+--------------------+------------+-------+-----+-----+\n",
      "|     customerID|       unit|      usage|bathrooms|bedrooms|floors|parkingSpaces|suites|unitFloor|unitsOnTheFloor|usableAreas|        neighborhood|        zone|  price|condo| iptu|\n",
      "+---------------+-----------+-----------+---------+--------+------+-------------+------+---------+---------------+-----------+--------------------+------------+-------+-----+-----+\n",
      "|775564-BOJSMVON|     Outros|Residencial|        0|       0|     0|            1|     0|        0|              0|         62|             Taquara|  Zona Oeste|45000.0|150.0|  0.0|\n",
      "|660895-AUENKNYY|Apartamento|Residencial|        1|       2|     0|            1|     0|        0|              0|         44|          Santíssimo|  Zona Oeste|45000.0|120.0|  0.0|\n",
      "|751522-JESYFEQL|     Outros|Residencial|        0|       0|     0|            0|     0|        0|              0|        132|  Pedra de Guaratiba|  Zona Oeste|50000.0|100.0|  0.0|\n",
      "|568886-ZIBFOMCC|Apartamento|Residencial|        2|       3|     3|            1|     1|        2|              4|         60|Recreio dos Bande...|  Zona Oeste|50000.0|400.0|120.0|\n",
      "|526755-OBLTYTEN|     Outros|Residencial|        0|       0|     0|            0|     0|        0|              0|        200|           Guaratiba|  Zona Oeste|50000.0|  0.0| NULL|\n",
      "|792086-NWNQTDYL|Apartamento|Residencial|        1|       1|     0|            1|     0|        0|              0|         33|         Jacarezinho|  Zona Norte|45336.0|  0.0|  0.0|\n",
      "|339622-MNZGLKTZ|     Outros|Residencial|        0|       0|     0|            0|     0|        0|              0|        120|           Guaratiba|  Zona Oeste|45000.0|  0.0|  0.0|\n",
      "|952338-SVULQMXR|     Outros|Residencial|        0|       0|     0|            0|     0|        0|              0|        468|          Santa Cruz|  Zona Oeste|45000.0|  0.0|  0.0|\n",
      "|570439-LDICQOXZ|     Outros|Residencial|        0|       0|     0|            0|     0|        1|              0|        180|       Vargem Grande|  Zona Oeste|50000.0|  0.0|  0.0|\n",
      "|684023-YTBNKLLO|     Outros|Residencial|        0|       0|     0|            0|     0|        0|              0|        128|               Bangu|  Zona Oeste|50000.0|  0.0|  0.0|\n",
      "|629412-VKUMMAVR|     Outros|Residencial|        0|       0|     0|            0|     0|        1|              0|         82|              Tanque|  Zona Oeste|45000.0|300.0|  0.0|\n",
      "|951104-MACIAPIS|Apartamento|Residencial|        2|       3|    20|            1|     1|       20|             19|         70|        Santo Cristo|Zona Central|45000.0|350.0|120.0|\n",
      "|375665-GHMFEZXX|Apartamento|Residencial|        2|       3|    20|            1|     1|       20|             19|         70|        Santo Cristo|Zona Central|50000.0|350.0|120.0|\n",
      "|441711-LRTWHRUA|Apartamento|Residencial|        1|       1|     0|            0|     0|        2|              0|         37|  Pedra de Guaratiba|  Zona Oeste|50000.0|  0.0|  0.0|\n",
      "|221946-ENAQETGD|     Outros|Residencial|        0|       0|     0|            0|     0|        0|              0|        120|           Guaratiba|  Zona Oeste|45020.0|  0.0|  0.0|\n",
      "|023787-PTASXXTL|     Outros|Residencial|        0|       0|     0|            0|     0|        0|              0|        120|           Guaratiba|  Zona Oeste|45040.0|  0.0|  0.0|\n",
      "|385687-SWOBLUWG|     Outros|Residencial|        0|       0|     0|            0|     0|        0|              0|        150|          Santa Cruz|  Zona Oeste|45000.0|  0.0|  0.0|\n",
      "|037953-VZOABKON|Apartamento|Residencial|        1|       2|     0|            1|     0|        0|              0|         30|         Coelho Neto|  Zona Norte|45000.0| NULL|  0.0|\n",
      "|913561-GIAMXOYU|     Outros|Residencial|        0|       0|     0|            0|     0|        0|              0|        128|           Guaratiba|  Zona Oeste|45000.0|  0.0|  0.0|\n",
      "|511928-EYKXPKBU|     Outros|Residencial|        0|       0|     0|            0|     0|        0|              0|        120|           Guaratiba|  Zona Oeste|45070.0|  0.0|  0.0|\n",
      "+---------------+-----------+-----------+---------+--------+------+-------------+------+---------+---------------+-----------+--------------------+------------+-------+-----+-----+\n",
      "only showing top 20 rows\n",
      "\n"
     ]
    },
    {
     "name": "stderr",
     "output_type": "stream",
     "text": [
      "                                                                                \r"
     ]
    }
   ],
   "source": [
    "dataset.show()"
   ]
  },
  {
   "cell_type": "code",
   "execution_count": 37,
   "metadata": {},
   "outputs": [
    {
     "name": "stderr",
     "output_type": "stream",
     "text": [
      "[Stage 26:==================================================>       (7 + 1) / 8]\r"
     ]
    },
    {
     "name": "stdout",
     "output_type": "stream",
     "text": [
      "+----------+----+-----+---------+--------+------+-------------+------+---------+---------------+-----------+------------+----+-----+-----+----+\n",
      "|customerID|unit|usage|bathrooms|bedrooms|floors|parkingSpaces|suites|unitFloor|unitsOnTheFloor|usableAreas|neighborhood|zone|price|condo|iptu|\n",
      "+----------+----+-----+---------+--------+------+-------------+------+---------+---------------+-----------+------------+----+-----+-----+----+\n",
      "|         0|   0|    0|        0|       0|     0|            0|     0|        0|              0|          0|           0|   0|    0| 6061|8726|\n",
      "+----------+----+-----+---------+--------+------+-------------+------+---------+---------------+-----------+------------+----+-----+-----+----+\n",
      "\n"
     ]
    },
    {
     "name": "stderr",
     "output_type": "stream",
     "text": [
      "                                                                                \r"
     ]
    }
   ],
   "source": [
    "dataset\\\n",
    "    .select([f.count(f.when(f.isnan(c) | f.isnull(c),True)).alias(c) for c in dataset.columns])\\\n",
    "    .show()"
   ]
  },
  {
   "cell_type": "code",
   "execution_count": 38,
   "metadata": {},
   "outputs": [
    {
     "name": "stderr",
     "output_type": "stream",
     "text": [
      "[Stage 29:>                                                         (0 + 1) / 1]\r"
     ]
    },
    {
     "name": "stdout",
     "output_type": "stream",
     "text": [
      "+---------------+-----------+-----------+---------+--------+------+-------------+------+---------+---------------+-----------+--------------------+------------+-------+-----+-----+\n",
      "|     customerID|       unit|      usage|bathrooms|bedrooms|floors|parkingSpaces|suites|unitFloor|unitsOnTheFloor|usableAreas|        neighborhood|        zone|  price|condo| iptu|\n",
      "+---------------+-----------+-----------+---------+--------+------+-------------+------+---------+---------------+-----------+--------------------+------------+-------+-----+-----+\n",
      "|775564-BOJSMVON|     Outros|Residencial|        0|       0|     0|            1|     0|        0|              0|         62|             Taquara|  Zona Oeste|45000.0|150.0|  0.0|\n",
      "|660895-AUENKNYY|Apartamento|Residencial|        1|       2|     0|            1|     0|        0|              0|         44|          Santíssimo|  Zona Oeste|45000.0|120.0|  0.0|\n",
      "|751522-JESYFEQL|     Outros|Residencial|        0|       0|     0|            0|     0|        0|              0|        132|  Pedra de Guaratiba|  Zona Oeste|50000.0|100.0|  0.0|\n",
      "|568886-ZIBFOMCC|Apartamento|Residencial|        2|       3|     3|            1|     1|        2|              4|         60|Recreio dos Bande...|  Zona Oeste|50000.0|400.0|120.0|\n",
      "|526755-OBLTYTEN|     Outros|Residencial|        0|       0|     0|            0|     0|        0|              0|        200|           Guaratiba|  Zona Oeste|50000.0|  0.0|  0.0|\n",
      "|792086-NWNQTDYL|Apartamento|Residencial|        1|       1|     0|            1|     0|        0|              0|         33|         Jacarezinho|  Zona Norte|45336.0|  0.0|  0.0|\n",
      "|339622-MNZGLKTZ|     Outros|Residencial|        0|       0|     0|            0|     0|        0|              0|        120|           Guaratiba|  Zona Oeste|45000.0|  0.0|  0.0|\n",
      "|952338-SVULQMXR|     Outros|Residencial|        0|       0|     0|            0|     0|        0|              0|        468|          Santa Cruz|  Zona Oeste|45000.0|  0.0|  0.0|\n",
      "|570439-LDICQOXZ|     Outros|Residencial|        0|       0|     0|            0|     0|        1|              0|        180|       Vargem Grande|  Zona Oeste|50000.0|  0.0|  0.0|\n",
      "|684023-YTBNKLLO|     Outros|Residencial|        0|       0|     0|            0|     0|        0|              0|        128|               Bangu|  Zona Oeste|50000.0|  0.0|  0.0|\n",
      "|629412-VKUMMAVR|     Outros|Residencial|        0|       0|     0|            0|     0|        1|              0|         82|              Tanque|  Zona Oeste|45000.0|300.0|  0.0|\n",
      "|951104-MACIAPIS|Apartamento|Residencial|        2|       3|    20|            1|     1|       20|             19|         70|        Santo Cristo|Zona Central|45000.0|350.0|120.0|\n",
      "|375665-GHMFEZXX|Apartamento|Residencial|        2|       3|    20|            1|     1|       20|             19|         70|        Santo Cristo|Zona Central|50000.0|350.0|120.0|\n",
      "|441711-LRTWHRUA|Apartamento|Residencial|        1|       1|     0|            0|     0|        2|              0|         37|  Pedra de Guaratiba|  Zona Oeste|50000.0|  0.0|  0.0|\n",
      "|221946-ENAQETGD|     Outros|Residencial|        0|       0|     0|            0|     0|        0|              0|        120|           Guaratiba|  Zona Oeste|45020.0|  0.0|  0.0|\n",
      "|023787-PTASXXTL|     Outros|Residencial|        0|       0|     0|            0|     0|        0|              0|        120|           Guaratiba|  Zona Oeste|45040.0|  0.0|  0.0|\n",
      "|385687-SWOBLUWG|     Outros|Residencial|        0|       0|     0|            0|     0|        0|              0|        150|          Santa Cruz|  Zona Oeste|45000.0|  0.0|  0.0|\n",
      "|037953-VZOABKON|Apartamento|Residencial|        1|       2|     0|            1|     0|        0|              0|         30|         Coelho Neto|  Zona Norte|45000.0|  0.0|  0.0|\n",
      "|913561-GIAMXOYU|     Outros|Residencial|        0|       0|     0|            0|     0|        0|              0|        128|           Guaratiba|  Zona Oeste|45000.0|  0.0|  0.0|\n",
      "|511928-EYKXPKBU|     Outros|Residencial|        0|       0|     0|            0|     0|        0|              0|        120|           Guaratiba|  Zona Oeste|45070.0|  0.0|  0.0|\n",
      "+---------------+-----------+-----------+---------+--------+------+-------------+------+---------+---------------+-----------+--------------------+------------+-------+-----+-----+\n",
      "only showing top 20 rows\n",
      "\n"
     ]
    },
    {
     "name": "stderr",
     "output_type": "stream",
     "text": [
      "                                                                                \r"
     ]
    }
   ],
   "source": [
    "dataset\\\n",
    "    .select('*')\\\n",
    "    .na\\\n",
    "    .fill(0)\\\n",
    "    .show()"
   ]
  },
  {
   "cell_type": "code",
   "execution_count": 39,
   "metadata": {},
   "outputs": [],
   "source": [
    "dataset=dataset\\\n",
    "    .select('*')\\\n",
    "    .na\\\n",
    "    .fill(0)"
   ]
  },
  {
   "cell_type": "code",
   "execution_count": 42,
   "metadata": {},
   "outputs": [
    {
     "name": "stderr",
     "output_type": "stream",
     "text": [
      "[Stage 31:==================================================>       (7 + 1) / 8]\r"
     ]
    },
    {
     "name": "stdout",
     "output_type": "stream",
     "text": [
      "+----------+----+-----+---------+--------+------+-------------+------+---------+---------------+-----------+------------+----+-----+-----+----+\n",
      "|customerID|unit|usage|bathrooms|bedrooms|floors|parkingSpaces|suites|unitFloor|unitsOnTheFloor|usableAreas|neighborhood|zone|price|condo|iptu|\n",
      "+----------+----+-----+---------+--------+------+-------------+------+---------+---------------+-----------+------------+----+-----+-----+----+\n",
      "|         0|   0|    0|        0|       0|     0|            0|     0|        0|              0|          0|           0|   0|    0|    0|   0|\n",
      "+----------+----+-----+---------+--------+------+-------------+------+---------+---------------+-----------+------------+----+-----+-----+----+\n",
      "\n"
     ]
    },
    {
     "name": "stderr",
     "output_type": "stream",
     "text": [
      "                                                                                \r"
     ]
    }
   ],
   "source": [
    "dataset\\\n",
    "    .select([f.count(f.when(f.isnan(c) | f.isnull(c),True)).alias(c) for c in dataset.columns])\\\n",
    "    .show()"
   ]
  },
  {
   "cell_type": "code",
   "execution_count": 43,
   "metadata": {},
   "outputs": [
    {
     "name": "stderr",
     "output_type": "stream",
     "text": [
      "[Stage 34:==================================================>       (7 + 1) / 8]\r"
     ]
    },
    {
     "name": "stdout",
     "output_type": "stream",
     "text": [
      "+------------+-----+\n",
      "|        zone|count|\n",
      "+------------+-----+\n",
      "|  Zona Norte|14379|\n",
      "|  Zona Oeste|35523|\n",
      "|Zona Central| 1002|\n",
      "|    Zona Sul|18535|\n",
      "|            |  157|\n",
      "+------------+-----+\n",
      "\n"
     ]
    },
    {
     "name": "stderr",
     "output_type": "stream",
     "text": [
      "                                                                                \r"
     ]
    }
   ],
   "source": [
    "dataset\\\n",
    "    .select('zone')\\\n",
    "    .groupBy('zone')\\\n",
    "    .count()\\\n",
    "    .show()"
   ]
  },
  {
   "cell_type": "code",
   "execution_count": 45,
   "metadata": {},
   "outputs": [],
   "source": [
    "dataset=dataset\\\n",
    ".where(f.col('zone') != '')"
   ]
  }
 ],
 "metadata": {
  "kernelspec": {
   "display_name": "sparkReg",
   "language": "python",
   "name": "python3"
  },
  "language_info": {
   "codemirror_mode": {
    "name": "ipython",
    "version": 3
   },
   "file_extension": ".py",
   "mimetype": "text/x-python",
   "name": "python",
   "nbconvert_exporter": "python",
   "pygments_lexer": "ipython3",
   "version": "3.10.12"
  }
 },
 "nbformat": 4,
 "nbformat_minor": 2
}
